{
 "cells": [
  {
   "cell_type": "markdown",
   "metadata": {},
   "source": [
    "Currency Converter"
   ]
  },
  {
   "cell_type": "code",
   "execution_count": 26,
   "metadata": {},
   "outputs": [
    {
     "name": "stdin",
     "output_type": "stream",
     "text": [
      "Enter amount\n",
      " 100000\n"
     ]
    },
    {
     "name": "stdout",
     "output_type": "stream",
     "text": [
      "Enter the currency you want to convert this amount into. Available options: \n",
      "\n",
      "Argentine Peso\n",
      "Australian Dollar\n",
      "Bahraini Dinar\n",
      "Botswana Pula\n",
      "Brazilian Real\n",
      "British Pound\n",
      "Bruneian Dollar\n",
      "Bulgarian Lev\n",
      "Canadian Dollar\n",
      "Chilean Peso\n",
      "Chinese Yuan Renminbi\n",
      "Colombian Peso\n",
      "Croatian Kuna\n",
      "Czech Koruna\n",
      "Danish Krone\n",
      "Emirati Dirham\n",
      "Euro\n",
      "Hong Kong Dollar\n",
      "Hungarian Forint\n",
      "Icelandic Krona\n",
      "Indian Rupee\n",
      "Indonesian Rupiah\n",
      "Iranian Rial\n",
      "Israeli Shekel\n",
      "Japanese Yen\n",
      "Kazakhstani Tenge\n",
      "Kuwaiti Dinar\n",
      "Libyan Dinar\n",
      "Malaysian Ringgit\n",
      "Mauritian Rupee\n",
      "Mexican Peso\n",
      "Nepalese Rupee\n",
      "New Zealand Dollar\n",
      "Norwegian Krone\n",
      "Omani Rial\n",
      "Philippine Peso\n",
      "Polish Zloty\n",
      "Qatari Riyal\n",
      "Romanian New Leu\n",
      "Russian Ruble\n",
      "Saudi Arabian Riyal\n",
      "Singapore Dollar\n",
      "South African Rand\n",
      "South Korean Won\n",
      "Sri Lankan Rupee\n",
      "Swedish Krona\n",
      "Swiss Franc\n",
      "Taiwan New Dollar\n",
      "Thai Baht\n",
      "Trinidadian Dollar\n",
      "Turkish Lira\n",
      "US Dollar\n",
      "Venezuelan Bolivar\n"
     ]
    },
    {
     "name": "stdin",
     "output_type": "stream",
     "text": [
      "Enter one of these values\n",
      " US Dollar\n"
     ]
    },
    {
     "name": "stdout",
     "output_type": "stream",
     "text": [
      "100000 PKR is equal to 641.6 US Dollar\n"
     ]
    }
   ],
   "source": [
    "with open(\"currency.txt\") as f:\n",
    "    lines=f.readlines()\n",
    "    currencydict={}\n",
    "    for line in lines:\n",
    "        parsed=line.split(\"\\t\")\n",
    "        currencydict[parsed[0]]=parsed[1]\n",
    "    amount=int(input(\"Enter amount\\n\"))\n",
    "    print(\"Enter the currency you want to convert this amount into. Available options: \\n\")\n",
    "    [print(item) for item in currencydict.keys()]\n",
    "    currency=input(\"Enter one of these values\\n\")\n",
    "    print(f'{amount} PKR is equal to {amount*float(currencydict[currency])} {currency}')"
   ]
  }
 ],
 "metadata": {
  "kernelspec": {
   "display_name": "Python 3",
   "language": "python",
   "name": "python3"
  },
  "language_info": {
   "codemirror_mode": {
    "name": "ipython",
    "version": 3
   },
   "file_extension": ".py",
   "mimetype": "text/x-python",
   "name": "python",
   "nbconvert_exporter": "python",
   "pygments_lexer": "ipython3",
   "version": "3.7.6"
  }
 },
 "nbformat": 4,
 "nbformat_minor": 4
}
