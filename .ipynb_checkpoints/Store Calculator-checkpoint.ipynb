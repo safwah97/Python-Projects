{
 "cells": [
  {
   "cell_type": "code",
   "execution_count": 1,
   "metadata": {},
   "outputs": [
    {
     "name": "stdout",
     "output_type": "stream",
     "text": [
      "Welcome to ABC Store\n",
      "\n"
     ]
    },
    {
     "name": "stdin",
     "output_type": "stream",
     "text": [
      "Enter the name of the item or press q to quit\n",
      " Shampoo\n",
      "Enter the price of the item\n",
      " 500\n"
     ]
    },
    {
     "name": "stdout",
     "output_type": "stream",
     "text": [
      "Your bill so far Rs.500\n"
     ]
    },
    {
     "name": "stdin",
     "output_type": "stream",
     "text": [
      "Enter the name of the item or press q to quit\n",
      " Cleanser\n",
      "Enter the price of the item\n",
      " 600\n"
     ]
    },
    {
     "name": "stdout",
     "output_type": "stream",
     "text": [
      "Your bill so far Rs.1100\n"
     ]
    },
    {
     "name": "stdin",
     "output_type": "stream",
     "text": [
      "Enter the name of the item or press q to quit\n",
      " Moisturiser\n",
      "Enter the price of the item\n",
      " 1050\n"
     ]
    },
    {
     "name": "stdout",
     "output_type": "stream",
     "text": [
      "Your bill so far Rs.2150\n"
     ]
    },
    {
     "name": "stdin",
     "output_type": "stream",
     "text": [
      "Enter the name of the item or press q to quit\n",
      " Mouth Wash\n",
      "Enter the price of the item\n",
      " 200\n"
     ]
    },
    {
     "name": "stdout",
     "output_type": "stream",
     "text": [
      "Your bill so far Rs.2350\n"
     ]
    },
    {
     "name": "stdin",
     "output_type": "stream",
     "text": [
      "Enter the name of the item or press q to quit\n",
      " q\n"
     ]
    },
    {
     "name": "stdout",
     "output_type": "stream",
     "text": [
      "+-------------+------------+\n",
      "|  Item Name  | Item Price |\n",
      "+-------------+------------+\n",
      "|   Shampoo   |    500     |\n",
      "|   Cleanser  |    600     |\n",
      "| Moisturiser |    1050    |\n",
      "|  Mouth Wash |    200     |\n",
      "|    TOTAL    |    2350    |\n",
      "+-------------+------------+\n",
      "Your total bill is Rs.2350/-\n",
      "Thankyou for shopping with us!\n"
     ]
    }
   ],
   "source": [
    "from prettytable import PrettyTable\n",
    "print(\"Welcome to ABC Store\\n\")\n",
    "table=PrettyTable([\"Item Name\",\"Item Price\"])\n",
    "total=0\n",
    "while(True):\n",
    "    \n",
    "    item_name= input(\"Enter the name of the item or press q to quit\\n\")\n",
    "    \n",
    "    if item_name!='q':\n",
    "        item_price=int(input(\"Enter the price of the item\\n\"))\n",
    "        total=total+item_price\n",
    "        table.add_row([item_name,item_price])\n",
    "        print(f\"Your bill so far Rs.{total}\")\n",
    "    \n",
    "    elif item_name=='q':\n",
    "        break\n",
    "table.add_row([\"TOTAL\",total])\n",
    "print(table)\n",
    "print(f\"Your total bill is Rs.{total}/-\\nThankyou for shopping with us!\")"
   ]
  }
 ],
 "metadata": {
  "kernelspec": {
   "display_name": "Python 3",
   "language": "python",
   "name": "python3"
  },
  "language_info": {
   "codemirror_mode": {
    "name": "ipython",
    "version": 3
   },
   "file_extension": ".py",
   "mimetype": "text/x-python",
   "name": "python",
   "nbconvert_exporter": "python",
   "pygments_lexer": "ipython3",
   "version": "3.7.6"
  }
 },
 "nbformat": 4,
 "nbformat_minor": 4
}
